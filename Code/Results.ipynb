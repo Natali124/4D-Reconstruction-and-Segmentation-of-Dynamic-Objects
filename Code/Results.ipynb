{
 "cells": [
  {
   "cell_type": "code",
   "execution_count": null,
   "id": "8afb6156",
   "metadata": {},
   "outputs": [],
   "source": [
    "from utils import *\n",
    "from utils.bisector_utils import *\n",
    "from utils.other_utils import *\n",
    "from utils.spectral import *\n",
    "from utils.sam_utils import *\n",
    "from utils.visualization_utils import *\n",
    "import numpy as np"
   ]
  },
  {
   "cell_type": "code",
   "execution_count": null,
   "id": "e00f44ff",
   "metadata": {},
   "outputs": [],
   "source": [
    "import torch\n",
    "import numpy as np\n",
    "from moge.model.v2 import MoGeModel\n",
    "import os\n",
    "\n",
    "device = 'cuda'\n",
    "model = MoGeModel.from_pretrained(\"Ruicheng/moge-2-vitl-normal\").to(device)   \n",
    "\n",
    "def get_3d_coordinates_for_frame(frames, model, device, frame_idx):\n",
    "    \"\"\"Get 3D coordinates and intrinsics for a specific frame using MoGe\"\"\"\n",
    "    input_image = frames[frame_idx]\n",
    "    input_image = torch.tensor(input_image / 255, dtype=torch.float32, device=device).permute(2, 0, 1)\n",
    "    \n",
    "    output = model.infer(input_image)\n",
    "    return output[\"points\"], output[\"mask\"], output[\"intrinsics\"]"
   ]
  },
  {
   "cell_type": "code",
   "execution_count": null,
   "id": "c30d4184",
   "metadata": {},
   "outputs": [],
   "source": [
    "from pnp_RANSAC_first_frame import main"
   ]
  },
  {
   "cell_type": "markdown",
   "id": "6492a5b2",
   "metadata": {},
   "source": [
    "## Get frames"
   ]
  },
  {
   "cell_type": "code",
   "execution_count": null,
   "id": "8dd3f1b5",
   "metadata": {},
   "outputs": [],
   "source": [
    "import pickle\n",
    "\n",
    "with open(f\"Data/frames_0.pkl\", \"rb\") as f:\n",
    "    frames = pickle.load(f)"
   ]
  },
  {
   "cell_type": "code",
   "execution_count": null,
   "id": "836e24db",
   "metadata": {},
   "outputs": [],
   "source": [
    "example_is_needed = False\n",
    "\n",
    "if example_is_needed: # only load if you need it, it is large\n",
    "    with open(f\"Data/example_0.pkl\", \"rb\") as f:\n",
    "        example = pickle.load(f)"
   ]
  },
  {
   "cell_type": "markdown",
   "id": "b5856bc9",
   "metadata": {},
   "source": [
    "## Experiment"
   ]
  },
  {
   "cell_type": "code",
   "execution_count": null,
   "id": "b274650e",
   "metadata": {},
   "outputs": [],
   "source": [
    "import copy\n",
    "\n",
    "grid_size=20\n",
    "num_initializations=5\n",
    "result_frequency = 1\n",
    "max_iterations = 10\n",
    "\n",
    "first_tresh = 10.0\n",
    "other_tresh = 5.0\n",
    "third_iter = False\n",
    "\n",
    "vid = 'video_0'\n",
    "path = vid\n",
    "\n",
    "resss = []\n",
    "\n",
    "all_results, frames, pred_tracks, pred_visibility = main(frames=frames, grid_size=grid_size, num_initializations=num_initializations, \n",
    "        ransac_threshold=first_tresh, result_frequency=result_frequency\n",
    "    )\n",
    "\n",
    "resss.append(all_results)\n",
    "\n",
    "outlier_tracks = [get_outlier_tracks(all_results)]\n",
    "\n",
    "ppred_vis = copy.deepcopy(pred_visibility)\n",
    "alll_res = copy.deepcopy(all_results)\n",
    "\n",
    "new_pred_visibility = copy.deepcopy(create_modified_visibility(ppred_vis, alll_res))\n",
    "\n",
    "updated_all_results, frames, pred_tracks, updated_pred_visibility = main(\n",
    "        frames=frames, grid_size=grid_size, num_initializations=num_initializations, \n",
    "        ransac_threshold=other_tresh, result_frequency=result_frequency, \n",
    "        pred_tracks=pred_tracks, pred_visibility=new_pred_visibility, verbose=True, use_sam=True\n",
    "    )\n",
    "\n",
    "resss.append(updated_all_results)\n",
    "\n",
    "if updated_all_results[('track_based', 'frame_zero_to_all')][2]['frame_pair_details']:\n",
    "    outlier_tracks.append(get_outlier_tracks(updated_all_results))\n",
    "\n",
    "###################################################################################################\n",
    "if third_iter:\n",
    "    updated_pred_visibility_to_use = copy.deepcopy(updated_pred_visibility)\n",
    "    updated_all_results_to_use = copy.deepcopy(updated_all_results)\n",
    "    new_pred_visibility = copy.deepcopy(create_modified_visibility(updated_pred_visibility_to_use, updated_all_results_to_use))\n",
    "\n",
    "    outl_tracks = (all_results[('track_based', 'frame_zero_to_all')][2]['frame_pair_details']['global_outlier_tracks'])\n",
    "    errors = all_results[('track_based', 'frame_zero_to_all')][2]['frame_pair_details']['global_track_errors']\n",
    "    error_old_to_compare = np.mean(list({tid: errors[tid] for tid in outl_tracks if tid in errors}.values()))\n",
    "\n",
    "    updated_all_results, frames, pred_tracks, updated_pred_visibility = main(\n",
    "            frames=frames, grid_size=grid_size, num_initializations=num_initializations, \n",
    "            ransac_threshold=other_tresh, result_frequency=result_frequency, \n",
    "            pred_tracks=pred_tracks, pred_visibility=new_pred_visibility, verbose=True, use_sam=True\n",
    "        )\n",
    "    \n",
    "    resss.append(updated_all_results)\n",
    "\n",
    "    inlier_tracks = (all_results[('track_based', 'frame_zero_to_all')][2]['frame_pair_details']['global_inlier_tracks'])\n",
    "    errors = all_results[('track_based', 'frame_zero_to_all')][2]['frame_pair_details']['global_track_errors']\n",
    "    error_new_to_compare = np.mean(list({tid: errors[tid] for tid in inlier_tracks if tid in errors}.values()))\n",
    "\n",
    "    if updated_all_results[('track_based', 'frame_zero_to_all')][2]['frame_pair_details']:\n",
    "        outlier_tracks.append(get_outlier_tracks(updated_all_results))\n",
    "    else:\n",
    "        print('EMPTY. STOPPING')\n",
    "\n",
    "###################################################################################################"
   ]
  },
  {
   "cell_type": "markdown",
   "id": "1d56e729",
   "metadata": {},
   "source": [
    "## Obtain GIF"
   ]
  },
  {
   "cell_type": "code",
   "execution_count": null,
   "id": "632fe87f",
   "metadata": {},
   "outputs": [],
   "source": [
    "create_hierarchical_outliers_gif(\n",
    "frames=frames,\n",
    "pred_tracks=pred_tracks,\n",
    "pred_visibility=pred_visibility,\n",
    "outlier_tracks=outlier_tracks,\n",
    "output_path=path + f'/{vid}.gif',\n",
    "duration=600,\n",
    "# figsize=(12, 8)\n",
    ")"
   ]
  },
  {
   "cell_type": "markdown",
   "id": "d4110ff1",
   "metadata": {},
   "source": [
    "## Obtain json file for 3d visualization"
   ]
  },
  {
   "cell_type": "code",
   "execution_count": null,
   "id": "5beccf89",
   "metadata": {},
   "outputs": [],
   "source": [
    "frame_indices = list(range(0, 10))\n",
    "labels = create_labels_from_outlier_tracks(outlier_tracks, pred_tracks.shape)\n",
    "\n",
    "save_multi_frame_points_for_web_with_colored_tracks_and_error_lines(\n",
    "    frames, model, 'cuda', \n",
    "    path + f\"/visualization_3d.json\",\n",
    "    frame_indices=frame_indices,\n",
    "    max_points_per_frame=15000,\n",
    "    verbose=True,\n",
    "    pred_tracks=pred_tracks, \n",
    "    pred_visibility=pred_visibility,\n",
    "    track_labels=labels,\n",
    "    all_results=all_results  # Pass the results from first iteration\n",
    ")"
   ]
  },
  {
   "cell_type": "markdown",
   "id": "43b0937b",
   "metadata": {},
   "source": [
    "## Obtain Reprojection Error Results"
   ]
  },
  {
   "cell_type": "code",
   "execution_count": null,
   "id": "ca31fb7c",
   "metadata": {},
   "outputs": [],
   "source": [
    "create_reprojection_error_visualization(\n",
    "    frames=frames[:5],\n",
    "    pred_tracks=pred_tracks[:, :5, :, :],\n",
    "    pred_visibility=pred_visibility[:, :5, :],\n",
    "    outlier_tracks=outlier_tracks,\n",
    "    all_results=all_results,\n",
    "    model=model,\n",
    "    device=device,\n",
    "    output_path=path + f'/reprojection_errors.gif',\n",
    "    duration=600,\n",
    "    error_threshold=10.0,\n",
    "    show_error_lines=True,\n",
    "    show_inliers=True,\n",
    "    show_outliers=True\n",
    ")"
   ]
  },
  {
   "cell_type": "code",
   "execution_count": null,
   "id": "0fc9b837",
   "metadata": {},
   "outputs": [],
   "source": [
    "create_multi_iteration_reprojection_visualization(\n",
    "    frames=frames,\n",
    "    pred_tracks=pred_tracks,\n",
    "    pred_visibility=pred_visibility,\n",
    "    outlier_tracks=outlier_tracks,  # Your list: [outlier_tracks[0], outlier_tracks[1]]\n",
    "    all_results_list=resss,  # Results from each iteration\n",
    "    model=model,\n",
    "    device=device,\n",
    "    output_path=path + f'/multi_iteration_reprojection_errors.gif',\n",
    "    duration=600,\n",
    "    error_threshold=10.0,\n",
    "    show_error_lines=True\n",
    ")"
   ]
  },
  {
   "cell_type": "markdown",
   "id": "79a22340",
   "metadata": {},
   "source": [
    "## Obtain Spectral Clustering Results"
   ]
  },
  {
   "cell_type": "code",
   "execution_count": null,
   "id": "c35b17e5",
   "metadata": {},
   "outputs": [],
   "source": [
    "labels = run_spectral(frames, '0debug', model, 'cuda', path)"
   ]
  },
  {
   "cell_type": "markdown",
   "id": "cb6c79b0",
   "metadata": {},
   "source": [
    "## Obtain SAM-based post-processing"
   ]
  },
  {
   "cell_type": "code",
   "execution_count": null,
   "id": "d21f9816",
   "metadata": {},
   "outputs": [],
   "source": [
    "results = run_sam_outlier_analysis(\n",
    "    frames=frames[:5],\n",
    "    tracks=pred_tracks[:, :5, :, :], \n",
    "    visibility=pred_visibility[:, :5, :],\n",
    "    outlier_tracks_level0=get_outlier_tracks(all_results),\n",
    "    sam_checkpoint_path=\"sam_vit_b_01ec64.pth\",\n",
    "    min_outliers=10,\n",
    "    outlier_ratio=0.5,\n",
    "    output_dir=path\n",
    ")"
   ]
  }
 ],
 "metadata": {
  "kernelspec": {
   "display_name": "moge",
   "language": "python",
   "name": "python3"
  },
  "language_info": {
   "codemirror_mode": {
    "name": "ipython",
    "version": 3
   },
   "file_extension": ".py",
   "mimetype": "text/x-python",
   "name": "python",
   "nbconvert_exporter": "python",
   "pygments_lexer": "ipython3",
   "version": "3.10.18"
  }
 },
 "nbformat": 4,
 "nbformat_minor": 5
}
